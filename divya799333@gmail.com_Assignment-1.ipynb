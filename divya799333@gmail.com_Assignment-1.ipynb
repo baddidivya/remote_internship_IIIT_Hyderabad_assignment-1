{
 "cells": [
  {
   "cell_type": "markdown",
   "metadata": {
    "id": "t5DP3gVwIWPi"
   },
   "source": [
    "# <center> Week-1 Assignment Solutions <center>"
   ]
  },
  {
   "cell_type": "markdown",
   "metadata": {
    "id": "yE7cWpPDhZXe"
   },
   "source": [
    "#### Problem No: 1\n"
   ]
  },
  {
   "cell_type": "code",
   "execution_count": 51,
   "metadata": {
    "id": "ahU4eHL7hU19"
   },
   "outputs": [
    {
     "name": "stdout",
     "output_type": "stream",
     "text": [
      "sdfg\n",
      "['s', 'd', 'f', 'g']\n"
     ]
    }
   ],
   "source": [
    "str1=str(input())\n",
    "list=[]\n",
    "def str2list(str1):\n",
    "    # write code to add each character in the string into a list format\n",
    "    # don't use any inbuilt methods\n",
    "    # input:\n",
    "        # str1 : input string\n",
    "    # output:\n",
    "        # return list (Replace None with output in return statement)\n",
    "    for i in str1:\n",
    "        list.append(i)\n",
    "    print(list)\n",
    "str2list(str1)     \n",
    "        \n",
    "    ### Write your code here\n",
    "    \n",
    "    \n",
    "    ### End of code"
   ]
  },
  {
   "cell_type": "markdown",
   "metadata": {
    "id": "b41Fw-aahtee"
   },
   "source": [
    "#### Problem No: 2\n"
   ]
  },
  {
   "cell_type": "code",
   "execution_count": 2,
   "metadata": {
    "id": "vp0YgjS1hukE"
   },
   "outputs": [
    {
     "name": "stdout",
     "output_type": "stream",
     "text": [
      "[['a', 1], ['b', 2], ['c', 3], ['d', 4]]\n"
     ]
    }
   ],
   "source": [
    "list1=[\"a\",\"b\",\"c\",\"d\"]\n",
    "list2=[1,2,3,4,5]\n",
    "list3=[]\n",
    "def listcombine(list1, list2):\n",
    "    # write code to combine two lists into one 2D list\n",
    "    # don't use any inbuilt methods\n",
    "    # input:\n",
    "        # list1 : input list1\n",
    "        # list2 : input list2\n",
    "    # output:\n",
    "        # return the combined list (Replace None with output in return statement)\n",
    "    for i in range(len(list1)):\n",
    "        new=[list1[i],list2[i]]\n",
    "        list3.append(new)\n",
    "    print(list3)\n",
    "listcombine(list1,list2)\n",
    "    \n",
    "    ### Write your code here\n",
    "    \n",
    "    \n",
    "    ### End of code"
   ]
  },
  {
   "cell_type": "markdown",
   "metadata": {
    "id": "tGPexTCviAoF"
   },
   "source": [
    "#### Problem No: 3"
   ]
  },
  {
   "cell_type": "code",
   "execution_count": 5,
   "metadata": {
    "id": "v3UdFh-CiD4u"
   },
   "outputs": [
    {
     "name": "stdout",
     "output_type": "stream",
     "text": [
      "[5, 4, 3, 2, 1]\n"
     ]
    }
   ],
   "source": [
    "list1=[1,2,3,4,5]\n",
    "def reverselist(list1):\n",
    "    # write code to reverse the elements in a list\n",
    "    # don't use any inbuilt methods\n",
    "    # input:\n",
    "        # list1 : input list1\n",
    "    # output:\n",
    "        # retun the reversed list (Replace None with output in return statement)\n",
    "    list2=list1[::-1]\n",
    "    print(list2)\n",
    "reverselist(list1)\n",
    "\n",
    "    ### Write your code here\n",
    "    \n",
    "    ### End of code"
   ]
  },
  {
   "cell_type": "markdown",
   "metadata": {
    "id": "_8B-ZTGkiIz_"
   },
   "source": [
    "#### Problem No: 4"
   ]
  },
  {
   "cell_type": "code",
   "execution_count": 6,
   "metadata": {
    "id": "iNMij6djiMUt"
   },
   "outputs": [
    {
     "name": "stdout",
     "output_type": "stream",
     "text": [
      "{'animal': 1, 'beauty': 2, 'camera': 3}\n"
     ]
    }
   ],
   "source": [
    "keys=[\"animal\",\"beauty\",\"camera\"]\n",
    "values=[1,2,3]\n",
    "def createdict(keys, values):\n",
    "    # write code to create a dictionary with keys & values lists\n",
    "    # input:\n",
    "        # keys : input list of keys\n",
    "        # values : input list of values\n",
    "    # output:\n",
    "        # return the dictionary (Replace None with output in return statement)\n",
    "    dicti={}\n",
    "    for i in range(len(keys)):\n",
    "        dicti[keys[i]]=values[i]\n",
    "    print(dicti)\n",
    "createdict(keys,values)\n",
    "    ### Write your code here\n",
    "    \n",
    "    \n",
    "    ### End of code"
   ]
  },
  {
   "cell_type": "markdown",
   "metadata": {
    "id": "TYt62cDOiYle"
   },
   "source": [
    "#### Problem No: 5"
   ]
  },
  {
   "cell_type": "code",
   "execution_count": 11,
   "metadata": {
    "id": "YfiJSAz8iZMt"
   },
   "outputs": [
    {
     "name": "stdout",
     "output_type": "stream",
     "text": [
      "asdfgnujj ghjkl sdfg\n",
      "divya\n",
      "0\n"
     ]
    }
   ],
   "source": [
    "str1=input()\n",
    "sub_str=input()\n",
    "def string_occurence(str1, sub_str):\n",
    "    # Check if a string contains a specific substring given as input.\n",
    "    # If the string search is successful then return the number of occurrences otherwise 0.\n",
    "    # input:\n",
    "        # str1: input string\n",
    "        # stb_str: input substring\n",
    "    # output: \n",
    "        # number of occurences of substring in string (Replace None with output in return statement)\n",
    "    coun=str1.count(sub_str)\n",
    "    print(coun)\n",
    "string_occurence(str1, sub_str)\n",
    "    ### Write your code here\n",
    "    \n",
    "    \n",
    "    ### End of code"
   ]
  },
  {
   "cell_type": "markdown",
   "metadata": {
    "id": "bz-ZMJCGifjg"
   },
   "source": [
    "#### Problem No: 6"
   ]
  },
  {
   "cell_type": "code",
   "execution_count": 12,
   "metadata": {
    "id": "h4ru_eWAigLI"
   },
   "outputs": [
    {
     "name": "stdout",
     "output_type": "stream",
     "text": [
      "24\n",
      "False\n"
     ]
    }
   ],
   "source": [
    "num=int(input())\n",
    "def perfectnumbercheck(num):\n",
    "    # write code to check given number is perfect or not\n",
    "    # Hint: return True or False\n",
    "    # input:\n",
    "        # num : input number\n",
    "    # output:\n",
    "        # return boolean value (Replace None with output in return statement)\n",
    "    val=0\n",
    "    for i in range(1,num):\n",
    "        if num%i==0:\n",
    "            val=val+i;\n",
    "    if(val==num):\n",
    "        print(\"True\")\n",
    "    else:\n",
    "        print(\"False\")\n",
    "perfectnumbercheck(num)\n",
    "\n",
    "    ### Write your code here\n",
    "    \n",
    "    \n",
    "    ### End of code"
   ]
  },
  {
   "cell_type": "markdown",
   "metadata": {
    "id": "DceitnVmikCm"
   },
   "source": [
    "#### Problem No: 7"
   ]
  },
  {
   "cell_type": "code",
   "execution_count": 55,
   "metadata": {
    "id": "R8ZGyY8LioOE"
   },
   "outputs": [
    {
     "name": "stdout",
     "output_type": "stream",
     "text": [
      "divya@799333\n",
      "True\n"
     ]
    }
   ],
   "source": [
    "import re\n",
    "def passwordstrengthcheck(password):\n",
    "    # check below conditions for the given password & return True if it pass otherwise False.\n",
    "    # At least 1 small letter [a-z] and 1 capital letter [A-Z].\n",
    "    # At least 1 digit [0-9].\n",
    "    # At least 1 special character from [$#@].\n",
    "    # Minimum length 6 characters.\n",
    "    # Maximum length 16 characters.\n",
    "    # input:\n",
    "        # password: input string\n",
    "    # output:\n",
    "        # return boolean value (Replace None with output in return statement)\n",
    "    if len(password)<6 or len(password)>16:\n",
    "        return False\n",
    "    if not re.search(\"[a-z]\",password or not re.search(\"[A-Z]\",password)):\n",
    "        return False\n",
    "    if not re.search(\"[^a-zA-Z0-9]\",password):\n",
    "        return False\n",
    "    return True\n",
    "password=input()\n",
    "if passwordstrengthcheck(password):\n",
    "    print(\"True\")\n",
    "else:\n",
    "    print(\"False\")\n",
    "\n",
    "\n",
    "    ### Write your code here\n",
    "\n",
    "\n",
    "    ### End of code"
   ]
  },
  {
   "cell_type": "markdown",
   "metadata": {
    "id": "3gbKdkHAi0SC"
   },
   "source": [
    "#### Problem No: 8"
   ]
  },
  {
   "cell_type": "code",
   "execution_count": 26,
   "metadata": {
    "id": "xgicShJKi0zA"
   },
   "outputs": [
    {
     "name": "stdout",
     "output_type": "stream",
     "text": [
      "pAvani\n",
      "{'p': 1, 'a': 2, 'v': 1, 'n': 1, 'i': 1}\n"
     ]
    }
   ],
   "source": [
    "str1=input()\n",
    "def wordfrequency(str1):\n",
    "    # Find out the frequency of words in a given string (prompted by the user) using dictionaries \n",
    "    # words frequency must be case-insensitive\n",
    "    # Hint: return a dictionary with unique words in the string as keys and theier frequency as the values\n",
    "    # input:\n",
    "        # str1 : input str1\n",
    "    # output:\n",
    "        # retrun the dictionary (Replace None with output in return statement)\n",
    "    new_str=str1.lower()\n",
    "    d={}\n",
    "    for i in new_str:\n",
    "        if i not in d:\n",
    "            d[i]=1\n",
    "        else:\n",
    "            d[i]+=1;\n",
    "    print(d)\n",
    "wordfrequency(str1)\n",
    "    ### Write your code here\n",
    "    \n",
    "\n",
    "    ### End of code"
   ]
  },
  {
   "cell_type": "markdown",
   "metadata": {
    "id": "4VzKnYm9i8uG"
   },
   "source": [
    "#### Problem No: 9"
   ]
  },
  {
   "cell_type": "code",
   "execution_count": 36,
   "metadata": {
    "id": "YOh2XFuqi9SJ"
   },
   "outputs": [
    {
     "name": "stdout",
     "output_type": "stream",
     "text": [
      "3\n"
     ]
    }
   ],
   "source": [
    "list1=[13,17,2,4,10]\n",
    "def primenumcount(list1):\n",
    "    # Write a function that can take a list of integers as function arguments and count the number of prime numbers in it (You can use inbuilt methods).\n",
    "    # If the prime number count below the len(list)/4 then return \"1\"\n",
    "    # If the prime number count between len(list)/4 and len(list)/2 then return \"2\" (boundary points included).\n",
    "    # If the prime number count above the len(list)/2 then return “3”.\n",
    "    # input:\n",
    "        # list1: input list of integers\n",
    "    # output:\n",
    "        # return count of prime (Replace None with output in return statement)\n",
    "         \n",
    "    ### Write your code here\n",
    "    prime_count=0\n",
    "    length=len(list1)\n",
    "    for i in list1:\n",
    "        count=0\n",
    "        for j in range(1,i+1):\n",
    "            if i%j==0:\n",
    "                count+=1\n",
    "        if count==2:\n",
    "            prime_count+=1\n",
    "    if prime_count<length/4:\n",
    "        print(\"1\")\n",
    "    elif ((prime_count>=length/4) and (prime_count<=length/2)):\n",
    "        print(\"2\")\n",
    "    elif(prime_count>length/2):\n",
    "        print(\"3\")\n",
    "primenumcount(list1)\n",
    "            \n",
    "        \n",
    "             \n",
    "    \n",
    "        \n",
    "\n",
    "    ### End of code"
   ]
  },
  {
   "cell_type": "markdown",
   "metadata": {
    "id": "2BsFdnKyjDGT"
   },
   "source": [
    "#### Problem No: 10"
   ]
  },
  {
   "cell_type": "code",
   "execution_count": 1,
   "metadata": {
    "id": "IyrHjMqFjDmQ"
   },
   "outputs": [
    {
     "name": "stdout",
     "output_type": "stream",
     "text": [
      "divya is a good girl\n",
      "4\n",
      "['good', 'divya', 'girl']\n"
     ]
    }
   ],
   "source": [
    "str1 =input()\n",
    "length =int(input())\n",
    "def unique_words(str1, length):\n",
    "    # Write a function that can take a string and an integer as function arguments and display \n",
    "    # the unique words (words are case-insensitive) that can meet the condition i.e. word length >= given integer \n",
    "    # (Don’t use any inbuilt method for removing duplicate words).\n",
    "    \n",
    "    # input:\n",
    "        # str1 : input string\n",
    "        # length : string length\n",
    "    # output:\n",
    "        # list of unique words those meets the above condition (Replace None with output in return statement)\n",
    "         \n",
    "    ### Write your code here\n",
    "    words = str1.lower().split()\n",
    "    uni_words = set()\n",
    "    for word in words:\n",
    "        if len(word) >= length:\n",
    "            uni_words.add(word)\n",
    "    return list(uni_words)\n",
    "\n",
    "result = unique_words(str1, length)\n",
    "print(result)\n",
    "    \n",
    "    ### End of code"
   ]
  },
  {
   "cell_type": "code",
   "execution_count": null,
   "metadata": {},
   "outputs": [],
   "source": []
  }
 ],
 "metadata": {
  "colab": {
   "provenance": []
  },
  "kernelspec": {
   "display_name": "Python 3",
   "language": "python",
   "name": "python3"
  },
  "language_info": {
   "codemirror_mode": {
    "name": "ipython",
    "version": 3
   },
   "file_extension": ".py",
   "mimetype": "text/x-python",
   "name": "python",
   "nbconvert_exporter": "python",
   "pygments_lexer": "ipython3",
   "version": "3.7.6"
  }
 },
 "nbformat": 4,
 "nbformat_minor": 1
}
